{
 "cells": [
  {
   "cell_type": "code",
   "execution_count": 1,
   "id": "bbc512d7",
   "metadata": {},
   "outputs": [
    {
     "name": "stdout",
     "output_type": "stream",
     "text": [
      "Requirement already satisfied: urlexpander in c:\\users\\leap\\anaconda3\\lib\\site-packages (0.0.37)\n",
      "Requirement already satisfied: unshortenit in c:\\users\\leap\\anaconda3\\lib\\site-packages (from urlexpander) (0.4.0)\n",
      "Requirement already satisfied: numpy in c:\\users\\leap\\anaconda3\\lib\\site-packages (from urlexpander) (1.20.1)\n",
      "Requirement already satisfied: pandas in c:\\users\\leap\\anaconda3\\lib\\site-packages (from urlexpander) (1.2.4)\n",
      "Requirement already satisfied: tldextract in c:\\users\\leap\\anaconda3\\lib\\site-packages (from urlexpander) (3.1.2)\n",
      "Requirement already satisfied: tqdm in c:\\users\\leap\\anaconda3\\lib\\site-packages (from urlexpander) (4.59.0)\n",
      "Requirement already satisfied: python-dateutil>=2.7.3 in c:\\users\\leap\\anaconda3\\lib\\site-packages (from pandas->urlexpander) (2.8.1)\n",
      "Requirement already satisfied: pytz>=2017.3 in c:\\users\\leap\\anaconda3\\lib\\site-packages (from pandas->urlexpander) (2021.1)\n",
      "Requirement already satisfied: six>=1.5 in c:\\users\\leap\\anaconda3\\lib\\site-packages (from python-dateutil>=2.7.3->pandas->urlexpander) (1.15.0)\n",
      "Requirement already satisfied: requests>=2.1.0 in c:\\users\\leap\\anaconda3\\lib\\site-packages (from tldextract->urlexpander) (2.25.1)\n",
      "Requirement already satisfied: idna in c:\\users\\leap\\anaconda3\\lib\\site-packages (from tldextract->urlexpander) (2.10)\n",
      "Requirement already satisfied: requests-file>=1.4 in c:\\users\\leap\\anaconda3\\lib\\site-packages (from tldextract->urlexpander) (1.5.1)\n",
      "Requirement already satisfied: filelock>=3.0.8 in c:\\users\\leap\\anaconda3\\lib\\site-packages (from tldextract->urlexpander) (3.0.12)\n",
      "Requirement already satisfied: urllib3<1.27,>=1.21.1 in c:\\users\\leap\\anaconda3\\lib\\site-packages (from requests>=2.1.0->tldextract->urlexpander) (1.26.4)\n",
      "Requirement already satisfied: certifi>=2017.4.17 in c:\\users\\leap\\anaconda3\\lib\\site-packages (from requests>=2.1.0->tldextract->urlexpander) (2021.10.8)\n",
      "Requirement already satisfied: chardet<5,>=3.0.2 in c:\\users\\leap\\anaconda3\\lib\\site-packages (from requests>=2.1.0->tldextract->urlexpander) (4.0.0)\n",
      "Requirement already satisfied: click>=6.7 in c:\\users\\leap\\anaconda3\\lib\\site-packages (from unshortenit->urlexpander) (7.1.2)\n",
      "Requirement already satisfied: lxml>=4.1.1 in c:\\users\\leap\\anaconda3\\lib\\site-packages (from unshortenit->urlexpander) (4.6.3)\n",
      "Note: you may need to restart the kernel to use updated packages.\n"
     ]
    }
   ],
   "source": [
    "pip install urlexpander\n"
   ]
  },
  {
   "cell_type": "code",
   "execution_count": 2,
   "id": "92fa0a10",
   "metadata": {},
   "outputs": [],
   "source": [
    "import requests\n",
    "import pandas as pd\n",
    "import urlexpander"
   ]
  },
  {
   "cell_type": "code",
   "execution_count": 3,
   "id": "8f1824ed",
   "metadata": {},
   "outputs": [],
   "source": [
    "df = pd.read_csv(\"../../df_tweets_4_months_urls.csv\") "
   ]
  },
  {
   "cell_type": "code",
   "execution_count": 4,
   "id": "32284855",
   "metadata": {},
   "outputs": [],
   "source": [
    "df_data_2_one = df[df.n_urls == 1]"
   ]
  },
  {
   "cell_type": "code",
   "execution_count": 5,
   "id": "427479dc",
   "metadata": {},
   "outputs": [
    {
     "data": {
      "text/plain": [
       "'https://t.co/5djnLz36zv'"
      ]
     },
     "execution_count": 5,
     "metadata": {},
     "output_type": "execute_result"
    }
   ],
   "source": [
    "df_data_2_one.urls[0][2:-2]"
   ]
  },
  {
   "cell_type": "code",
   "execution_count": 6,
   "id": "12e8e11e",
   "metadata": {},
   "outputs": [
    {
     "name": "stderr",
     "output_type": "stream",
     "text": [
      "<ipython-input-6-92c066dd6cc6>:1: SettingWithCopyWarning: \n",
      "A value is trying to be set on a copy of a slice from a DataFrame.\n",
      "Try using .loc[row_indexer,col_indexer] = value instead\n",
      "\n",
      "See the caveats in the documentation: https://pandas.pydata.org/pandas-docs/stable/user_guide/indexing.html#returning-a-view-versus-a-copy\n",
      "  df_data_2_one[\"short_url\"] =  df_data_2_one.urls.apply(lambda x: x[2:-2])\n"
     ]
    }
   ],
   "source": [
    "df_data_2_one[\"short_url\"] =  df_data_2_one.urls.apply(lambda x: x[2:-2])\n"
   ]
  },
  {
   "cell_type": "code",
   "execution_count": 7,
   "id": "f7eef2f6",
   "metadata": {},
   "outputs": [],
   "source": [
    "def unshorten_one(url):\n",
    "    try:\n",
    "        short =  urlexpander.expand(url)\n",
    "\n",
    "    except requests.ConnectionError:\n",
    "            short = \"connection error\"\n",
    "    except:\n",
    "        short = urlexpander.expand(\"http://\" + url)\n",
    "    try:\n",
    "    \n",
    "        if \"__CLIENT_ERROR__\"  in urlexpander.expand(short):     \n",
    "            try:\n",
    "                r = requests.get(url, allow_redirects=False)\n",
    "            except requests.MissingSchema:\n",
    "                r = requests.get(\"http://\" + url, allow_redirects=False)\n",
    "            except requests.ConnectionError:\n",
    "                short = \"connection error\"\n",
    "\n",
    "            try:\n",
    "                short = r.headers['location']\n",
    "            except KeyError:\n",
    "                short =  \"Page doesn't exist!\"\n",
    "    except requests.ConnectionError:\n",
    "        short = \"connection error\"\n",
    "       \n",
    "    return short"
   ]
  },
  {
   "cell_type": "code",
   "execution_count": 8,
   "id": "457d0e34",
   "metadata": {},
   "outputs": [],
   "source": [
    "def unshorten_one(url):\n",
    "    try:\n",
    "        short = urlexpander.expand(url)\n",
    "\n",
    "    except requests.ConnectionError:\n",
    "        short = \"connection error\"\n",
    "    except:\n",
    "        short = urlexpander.expand(\"http://\" + url)\n",
    "    try:\n",
    "\n",
    "        if \"__CLIENT_ERROR__\" in urlexpander.expand(short):\n",
    "            try:\n",
    "                r = requests.get(url, allow_redirects=False)\n",
    "                try:\n",
    "                    short = r.headers[\"location\"]\n",
    "                except KeyError:\n",
    "                    short = \"Page doesn't exist!\"\n",
    "            except requests.exceptions.MissingSchema:\n",
    "                r = requests.get(\"http://\" + url, allow_redirects=False)\n",
    "                try:\n",
    "                    short = r.headers[\"location\"]\n",
    "                except KeyError:\n",
    "                    short = \"Page doesn't exist!\"\n",
    "            except requests.ConnectionError:\n",
    "                short = \"connection error\"\n",
    "\n",
    "\n",
    "    except requests.ConnectionError:\n",
    "        short = \"connection error\"\n",
    "\n",
    "    return short"
   ]
  },
  {
   "cell_type": "code",
   "execution_count": null,
   "id": "10901829",
   "metadata": {},
   "outputs": [],
   "source": [
    "import time\n",
    "start_time = time.time()\n",
    "df_test = df_data_2_one.short_url.iloc[20000:21000].apply(lambda x: unshorten_one(x))"
   ]
  },
  {
   "cell_type": "code",
   "execution_count": null,
   "id": "a3829639",
   "metadata": {},
   "outputs": [],
   "source": [
    "df_test"
   ]
  },
  {
   "cell_type": "code",
   "execution_count": null,
   "id": "2f4682ea",
   "metadata": {},
   "outputs": [],
   "source": []
  }
 ],
 "metadata": {
  "kernelspec": {
   "display_name": "Python 3",
   "language": "python",
   "name": "python3"
  },
  "language_info": {
   "codemirror_mode": {
    "name": "ipython",
    "version": 3
   },
   "file_extension": ".py",
   "mimetype": "text/x-python",
   "name": "python",
   "nbconvert_exporter": "python",
   "pygments_lexer": "ipython3",
   "version": "3.8.8"
  }
 },
 "nbformat": 4,
 "nbformat_minor": 5
}
